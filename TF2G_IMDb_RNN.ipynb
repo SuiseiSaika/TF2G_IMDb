{
  "nbformat": 4,
  "nbformat_minor": 0,
  "metadata": {
    "colab": {
      "name": "TF2G_IMDb_RNN",
      "provenance": [],
      "collapsed_sections": []
    },
    "kernelspec": {
      "name": "python3",
      "display_name": "Python 3"
    },
    "accelerator": "GPU"
  },
  "cells": [
    {
      "cell_type": "code",
      "metadata": {
        "id": "9AGwUFJyToQm",
        "colab_type": "code",
        "colab": {}
      },
      "source": [
        "%tensorflow_version 2.x"
      ],
      "execution_count": 0,
      "outputs": []
    },
    {
      "cell_type": "code",
      "metadata": {
        "id": "LFq5JxDrTkLa",
        "colab_type": "code",
        "colab": {}
      },
      "source": [
        "%matplotlib inline\n",
        "import math\n",
        "import numpy as np\n",
        "import pandas as pd\n",
        "import matplotlib.pyplot as plt\n",
        "from tensorflow.keras import *\n",
        "from tensorflow.keras.utils import *\n",
        "from tensorflow.keras.layers import *\n",
        "from tensorflow.keras.datasets import imdb"
      ],
      "execution_count": 0,
      "outputs": []
    },
    {
      "cell_type": "markdown",
      "metadata": {
        "id": "4jEkwXyUesNw",
        "colab_type": "text"
      },
      "source": [
        "### Hyperparameters\n",
        "#### Epoch: 10\n",
        "#### Initial Learning Rate: 1e-3\n",
        "#### Batch  Size: 512\n",
        "#### Kernel Initializer: Orthogonal(default)\n"
      ]
    },
    {
      "cell_type": "code",
      "metadata": {
        "id": "rdwR9nT7b4Au",
        "colab_type": "code",
        "colab": {}
      },
      "source": [
        "max_features = 10000\n",
        "maxlen = 400\n",
        "epoch = 10\n",
        "learning_rate = 1e-3\n",
        "batch = 512\n",
        "initializer = initializers.Orthogonal(seed=114)\n",
        "cnn_initializer = initializers.glorot_uniform(seed=114)\n",
        "use_cudnn = True\n",
        "use_regulizar = False"
      ],
      "execution_count": 0,
      "outputs": []
    },
    {
      "cell_type": "markdown",
      "metadata": {
        "id": "qlwy-bMwiSx_",
        "colab_type": "text"
      },
      "source": [
        "### 決定是否使用GPU加速訓練 :\n",
        "#### 如果條件符合，Tensorflow可以使用GPU加速訓練CuDnnLSTM、CuDnnGRU\n",
        "#### 條件之一為 recurrent_dropout == 0"
      ]
    },
    {
      "cell_type": "code",
      "metadata": {
        "id": "gwXjVJAWd5iX",
        "colab_type": "code",
        "colab": {}
      },
      "source": [
        "if(use_cudnn):\n",
        "  recurrent_dropout = 0\n",
        "else:\n",
        "  recurrent_dropout = 0.5"
      ],
      "execution_count": 0,
      "outputs": []
    },
    {
      "cell_type": "markdown",
      "metadata": {
        "id": "MdV6MivNi5Rf",
        "colab_type": "text"
      },
      "source": [
        "### 決定是否使用 kernel_regulizar :\n",
        "#### 能夠某種程度上抑止過擬合\n",
        "#### 使用L2正則化\n"
      ]
    },
    {
      "cell_type": "code",
      "metadata": {
        "id": "JNPT9CeJi2jJ",
        "colab_type": "code",
        "colab": {}
      },
      "source": [
        "if(use_regulizar):\n",
        "  regularizer = regularizers.l2(0.05)\n",
        "else:\n",
        "  regularizer = None"
      ],
      "execution_count": 0,
      "outputs": []
    },
    {
      "cell_type": "code",
      "metadata": {
        "id": "c7LJ9Dhbb3aQ",
        "colab_type": "code",
        "colab": {}
      },
      "source": [
        "(x_train, y_train), (x_test, y_test) = imdb.load_data(num_words=max_features)\n",
        "x_train = preprocessing.sequence.pad_sequences(x_train, maxlen=maxlen)\n",
        "x_test = preprocessing.sequence.pad_sequences(x_test, maxlen=maxlen)\n",
        "y_train = np.array(y_train)\n",
        "y_test = np.array(y_test)"
      ],
      "execution_count": 0,
      "outputs": []
    },
    {
      "cell_type": "markdown",
      "metadata": {
        "id": "xIXAEMUJh5yI",
        "colab_type": "text"
      },
      "source": [
        "### 定義 cnn_layer :\n",
        "#### 先加入一層 Layer Normalization\n",
        "#### 加入 1D 卷積層\n",
        "#### 加入 Dropout，使用 1D Spatial Dropout \n",
        "#### 加入 ELU Activation Function"
      ]
    },
    {
      "cell_type": "code",
      "metadata": {
        "id": "aW-gzs4S2yw8",
        "colab_type": "code",
        "colab": {}
      },
      "source": [
        "def cnn_layer(units, dropoutrate = 0):\n",
        "    layer = models.Sequential()\n",
        "    layer.add(LayerNormalization())\n",
        "    layer.add(Conv1D(filters=units, kernel_size=1, kernel_initializer=cnn_initializer, strides=1, padding='same'))\n",
        "    if(dropoutrate>0):\n",
        "        layer.add(SpatialDropout1D(dropoutrate))\n",
        "    layer.add(layers.Activation('elu'))\n",
        "    return layer"
      ],
      "execution_count": 0,
      "outputs": []
    },
    {
      "cell_type": "markdown",
      "metadata": {
        "id": "cRD7gYgy1rkJ",
        "colab_type": "text"
      },
      "source": [
        "### 定義 rnn_layer :\n",
        "#### 先加入一層 Layer Normalization\n",
        "#### 決定使用哪種雙向 RNN Block(default GRU)\n",
        "#### 加入輸出 Dropout，使用 1D Spatial Dropout \n",
        "#### 加入 ELU Activation Function"
      ]
    },
    {
      "cell_type": "code",
      "metadata": {
        "id": "_wvxt4b63BGZ",
        "colab_type": "code",
        "colab": {}
      },
      "source": [
        "def rnn_layer(units, recurrent_dropout,dropout=0.5, dropoutrate = 0, rnn = 'GRU'):\n",
        "    layer = models.Sequential()\n",
        "    layer.add(LayerNormalization())\n",
        "    if(rnn == 'GRU'):\n",
        "      layer.add(Bidirectional(GRU(units, kernel_initializer=initializer, dropout=dropout, kernel_regularizer=regularizer, recurrent_dropout=recurrent_dropout, return_sequences=True)))\n",
        "    elif(rnn == 'LSTM'):\n",
        "      layer.add(Bidirectional(LSTM(units, kernel_initializer=initializer, dropout=dropout, kernel_regularizer=regularizer, recurrent_dropout=recurrent_dropout, return_sequences=True)))\n",
        "    else:\n",
        "      layer.add(Bidirectional(RNN(units, kernel_initializer=initializer, dropout=dropout, kernel_regularizer=regularizer, recurrent_dropout=recurrent_dropout, return_sequences=True)))\n",
        "    if(dropoutrate>0):\n",
        "        layer.add(SpatialDropout1D(dropoutrate))\n",
        "    layer.add(layers.Activation('elu'))\n",
        "    return layer"
      ],
      "execution_count": 0,
      "outputs": []
    },
    {
      "cell_type": "markdown",
      "metadata": {
        "id": "xXlB80Y0jcBn",
        "colab_type": "text"
      },
      "source": [
        "### 定義網路架構 :\n",
        "#### 使用 CNN+GRU結構訓練\n",
        "#### GRU部分採金字塔狀結構設計"
      ]
    },
    {
      "cell_type": "code",
      "metadata": {
        "id": "ObGKgl_fbz6n",
        "colab_type": "code",
        "outputId": "b0a7673f-1c79-4e9e-a399-7216b96762b6",
        "colab": {
          "base_uri": "https://localhost:8080/",
          "height": 425
        }
      },
      "source": [
        "model = Sequential()\n",
        "model.add(Embedding(10000, 128, input_length=maxlen))\n",
        "model.add(SpatialDropout1D(0.25))\n",
        "model.add(cnn_layer(256, 0.25))\n",
        "model.add(rnn_layer(256, recurrent_dropout, 0.5, 0.25))\n",
        "model.add(rnn_layer(128, recurrent_dropout, 0.5, 0.25))\n",
        "model.add(rnn_layer(64, recurrent_dropout, 0.5, 0.25))\n",
        "model.add(rnn_layer(32, recurrent_dropout, 0.5, 0.25))\n",
        "model.add(Dense(1, activation='sigmoid'))\n",
        "model.summary()"
      ],
      "execution_count": 9,
      "outputs": [
        {
          "output_type": "stream",
          "text": [
            "Model: \"sequential\"\n",
            "_________________________________________________________________\n",
            "Layer (type)                 Output Shape              Param #   \n",
            "=================================================================\n",
            "embedding (Embedding)        (None, 400, 128)          1280000   \n",
            "_________________________________________________________________\n",
            "spatial_dropout1d (SpatialDr (None, 400, 128)          0         \n",
            "_________________________________________________________________\n",
            "sequential_1 (Sequential)    (None, 400, 256)          33280     \n",
            "_________________________________________________________________\n",
            "sequential_2 (Sequential)    (None, 400, 512)          790016    \n",
            "_________________________________________________________________\n",
            "sequential_3 (Sequential)    (None, 400, 256)          494080    \n",
            "_________________________________________________________________\n",
            "sequential_4 (Sequential)    (None, 400, 128)          124160    \n",
            "_________________________________________________________________\n",
            "sequential_5 (Sequential)    (None, 400, 64)           31360     \n",
            "_________________________________________________________________\n",
            "dense (Dense)                (None, 400, 1)            65        \n",
            "=================================================================\n",
            "Total params: 2,752,961\n",
            "Trainable params: 2,752,961\n",
            "Non-trainable params: 0\n",
            "_________________________________________________________________\n"
          ],
          "name": "stdout"
        }
      ]
    },
    {
      "cell_type": "markdown",
      "metadata": {
        "id": "7msGkZjXliO4",
        "colab_type": "text"
      },
      "source": [
        "#### Optimizer : Adam，使用了clipvalue防止梯度爆炸\n",
        "#### Train : Validation : Test = 4 : 1 : 5\n",
        "#### 由於網路過擬合速度與程度都過快，所以 early_stop patience設比較短\n"
      ]
    },
    {
      "cell_type": "code",
      "metadata": {
        "id": "eIT0sSS0b67P",
        "colab_type": "code",
        "outputId": "f73e64da-eecf-4d20-f353-33422fad1c5f",
        "colab": {
          "base_uri": "https://localhost:8080/",
          "height": 224
        }
      },
      "source": [
        "adam = optimizers.Adam(lr = learning_rate, clipvalue=0.5)\n",
        "model.compile(optimizer= adam,\n",
        "              loss='binary_crossentropy',\n",
        "              metrics=['accuracy'])\n",
        "early_stop = callbacks.EarlyStopping(monitor='val_loss', patience=0, verbose=2)\n",
        "history = model.fit(x_train,\n",
        "                    y_train, \n",
        "                    batch_size=batch, \n",
        "                    epochs=epoch,\n",
        "                    validation_split = (1/5),\n",
        "                    # verbose=1, \n",
        "                    callbacks=[early_stop]\n",
        "                    )  "
      ],
      "execution_count": 10,
      "outputs": [
        {
          "output_type": "stream",
          "text": [
            "Epoch 1/10\n",
            "40/40 [==============================] - 52s 1s/step - loss: 0.7224 - accuracy: 0.5012 - val_loss: 0.6913 - val_accuracy: 0.5280\n",
            "Epoch 2/10\n",
            "40/40 [==============================] - 50s 1s/step - loss: 0.6743 - accuracy: 0.5609 - val_loss: 0.4944 - val_accuracy: 0.7870\n",
            "Epoch 3/10\n",
            "40/40 [==============================] - 50s 1s/step - loss: 0.4080 - accuracy: 0.8334 - val_loss: 0.2942 - val_accuracy: 0.8821\n",
            "Epoch 4/10\n",
            "40/40 [==============================] - 50s 1s/step - loss: 0.2404 - accuracy: 0.9112 - val_loss: 0.2673 - val_accuracy: 0.8963\n",
            "Epoch 5/10\n",
            "40/40 [==============================] - 50s 1s/step - loss: 0.1674 - accuracy: 0.9401 - val_loss: 0.3093 - val_accuracy: 0.8838\n",
            "Epoch 00005: early stopping\n"
          ],
          "name": "stdout"
        }
      ]
    },
    {
      "cell_type": "code",
      "metadata": {
        "id": "mMUjF5T4b7ww",
        "colab_type": "code",
        "outputId": "8bfd540c-49ff-4b30-bf9a-88d3a1c9cc52",
        "colab": {
          "base_uri": "https://localhost:8080/",
          "height": 34
        }
      },
      "source": [
        "test_loss, test_acc = model.evaluate(x_test, y_test, verbose=2)"
      ],
      "execution_count": 11,
      "outputs": [
        {
          "output_type": "stream",
          "text": [
            "782/782 - 52s - loss: 0.3227 - accuracy: 0.8795\n"
          ],
          "name": "stdout"
        }
      ]
    },
    {
      "cell_type": "code",
      "metadata": {
        "id": "bIWJ_yjwb8V_",
        "colab_type": "code",
        "outputId": "5818831e-45a0-4031-fca1-166b5f41544b",
        "colab": {
          "base_uri": "https://localhost:8080/",
          "height": 300
        }
      },
      "source": [
        "plt.plot(history.history['accuracy'], label='accuracy')\n",
        "plt.plot(history.history['val_accuracy'], label = 'val_accuracy')\n",
        "plt.xlabel('Epoch')\n",
        "plt.ylabel('Accuracy')\n",
        "plt.ylim([0.5, 1])\n",
        "plt.legend(loc='lower right')\n",
        "# plt.savefig(\"ann_acc.png\", dpi=500)"
      ],
      "execution_count": 12,
      "outputs": [
        {
          "output_type": "execute_result",
          "data": {
            "text/plain": [
              "<matplotlib.legend.Legend at 0x7f7621f86588>"
            ]
          },
          "metadata": {
            "tags": []
          },
          "execution_count": 12
        },
        {
          "output_type": "display_data",
          "data": {
            "image/png": "[encoded data removed]",
            "text/plain": [
              "<Figure size 432x288 with 1 Axes>"
            ]
          },
          "metadata": {
            "tags": [],
            "needs_background": "light"
          }
        }
      ]
    },
    {
      "cell_type": "code",
      "metadata": {
        "id": "maods0xfb85_",
        "colab_type": "code",
        "outputId": "42385db2-cc2b-4542-b8ca-6b3fabaaab00",
        "colab": {
          "base_uri": "https://localhost:8080/",
          "height": 300
        }
      },
      "source": [
        "plt.plot(history.history['loss'], label='loss')\n",
        "plt.plot(history.history['val_loss'], label = 'val_loss')\n",
        "plt.xlabel('Epoch')\n",
        "plt.ylabel('loss')\n",
        "plt.ylim([0, 1])\n",
        "plt.legend(loc='upper right')\n",
        "# plt.savefig(\"ann_loss.png\", dpi=500)"
      ],
      "execution_count": 13,
      "outputs": [
        {
          "output_type": "execute_result",
          "data": {
            "text/plain": [
              "<matplotlib.legend.Legend at 0x7f7621f4e668>"
            ]
          },
          "metadata": {
            "tags": []
          },
          "execution_count": 13
        },
        {
          "output_type": "display_data",
          "data": {
            "image/png": "[encoded data removed]",
            "text/plain": [
              "<Figure size 432x288 with 1 Axes>"
            ]
          },
          "metadata": {
            "tags": [],
            "needs_background": "light"
          }
        }
      ]
    },
    {
      "cell_type": "markdown",
      "metadata": {
        "id": "rmFhmwrAl511",
        "colab_type": "text"
      },
      "source": [
        "##Result : \n",
        "### Train accuracy: 94.01%\n",
        "### Valid accuracy: 88.38%\n",
        "### Test  accuracy: 87.95%\n"
      ]
    },
    {
      "cell_type": "markdown",
      "metadata": {
        "id": "tHWgDUTil0XA",
        "colab_type": "text"
      },
      "source": [
        "### 使用 recurrent_dropout 訓練\n",
        "#### 會OOM所以降低了 Batch_size\n"
      ]
    },
    {
      "cell_type": "code",
      "metadata": {
        "id": "D2vspFyZkgPh",
        "colab_type": "code",
        "colab": {}
      },
      "source": [
        "max_features = 10000\n",
        "maxlen = 400\n",
        "epoch = 10\n",
        "learning_rate = 1e-3\n",
        "batch = 128\n",
        "initializer = initializers.Orthogonal(seed=114)\n",
        "use_cudnn = False\n",
        "use_regulizar = False"
      ],
      "execution_count": 0,
      "outputs": []
    },
    {
      "cell_type": "code",
      "metadata": {
        "id": "2E6O9ucIkncg",
        "colab_type": "code",
        "colab": {}
      },
      "source": [
        "if(use_cudnn):\n",
        "  recurrent_dropout = 0\n",
        "else:\n",
        "  recurrent_dropout = 0.5"
      ],
      "execution_count": 0,
      "outputs": []
    },
    {
      "cell_type": "code",
      "metadata": {
        "id": "minykw_9knfi",
        "colab_type": "code",
        "colab": {}
      },
      "source": [
        "if(use_regulizar):\n",
        "  regularizer = regularizers.l2(0.05)\n",
        "else:\n",
        "  regularizer = None"
      ],
      "execution_count": 0,
      "outputs": []
    },
    {
      "cell_type": "code",
      "metadata": {
        "id": "sxPwaf8skd-5",
        "colab_type": "code",
        "colab": {
          "base_uri": "https://localhost:8080/",
          "height": 649
        },
        "outputId": "abe81288-5981-4066-eebc-32e492687967"
      },
      "source": [
        "model = Sequential()\n",
        "model.add(Embedding(10000, 128, input_length=maxlen))\n",
        "model.add(SpatialDropout1D(0.25))\n",
        "model.add(cnn_layer(256, 0.25))\n",
        "model.add(rnn_layer(256, recurrent_dropout, 0.5, 0.25))\n",
        "model.add(rnn_layer(128, recurrent_dropout, 0.5, 0.25))\n",
        "model.add(rnn_layer(64, recurrent_dropout, 0.5, 0.25))\n",
        "model.add(rnn_layer(32, recurrent_dropout, 0.5, 0.25))\n",
        "model.add(Dense(1, activation='sigmoid'))\n",
        "model.summary()"
      ],
      "execution_count": 22,
      "outputs": [
        {
          "output_type": "stream",
          "text": [
            "WARNING:tensorflow:Layer gru_8 will not use cuDNN kernel since it doesn't meet the cuDNN kernel criteria. It will use generic GPU kernel as fallback when running on GPU\n",
            "WARNING:tensorflow:Layer gru_8 will not use cuDNN kernel since it doesn't meet the cuDNN kernel criteria. It will use generic GPU kernel as fallback when running on GPU\n",
            "WARNING:tensorflow:Layer gru_8 will not use cuDNN kernel since it doesn't meet the cuDNN kernel criteria. It will use generic GPU kernel as fallback when running on GPU\n",
            "WARNING:tensorflow:Layer gru_9 will not use cuDNN kernel since it doesn't meet the cuDNN kernel criteria. It will use generic GPU kernel as fallback when running on GPU\n",
            "WARNING:tensorflow:Layer gru_9 will not use cuDNN kernel since it doesn't meet the cuDNN kernel criteria. It will use generic GPU kernel as fallback when running on GPU\n",
            "WARNING:tensorflow:Layer gru_9 will not use cuDNN kernel since it doesn't meet the cuDNN kernel criteria. It will use generic GPU kernel as fallback when running on GPU\n",
            "WARNING:tensorflow:Layer gru_10 will not use cuDNN kernel since it doesn't meet the cuDNN kernel criteria. It will use generic GPU kernel as fallback when running on GPU\n",
            "WARNING:tensorflow:Layer gru_10 will not use cuDNN kernel since it doesn't meet the cuDNN kernel criteria. It will use generic GPU kernel as fallback when running on GPU\n",
            "WARNING:tensorflow:Layer gru_10 will not use cuDNN kernel since it doesn't meet the cuDNN kernel criteria. It will use generic GPU kernel as fallback when running on GPU\n",
            "WARNING:tensorflow:Layer gru_11 will not use cuDNN kernel since it doesn't meet the cuDNN kernel criteria. It will use generic GPU kernel as fallback when running on GPU\n",
            "WARNING:tensorflow:Layer gru_11 will not use cuDNN kernel since it doesn't meet the cuDNN kernel criteria. It will use generic GPU kernel as fallback when running on GPU\n",
            "WARNING:tensorflow:Layer gru_11 will not use cuDNN kernel since it doesn't meet the cuDNN kernel criteria. It will use generic GPU kernel as fallback when running on GPU\n",
            "Model: \"sequential_12\"\n",
            "_________________________________________________________________\n",
            "Layer (type)                 Output Shape              Param #   \n",
            "=================================================================\n",
            "embedding_2 (Embedding)      (None, 400, 128)          1280000   \n",
            "_________________________________________________________________\n",
            "spatial_dropout1d_12 (Spatia (None, 400, 128)          0         \n",
            "_________________________________________________________________\n",
            "sequential_13 (Sequential)   (None, 400, 256)          33280     \n",
            "_________________________________________________________________\n",
            "sequential_14 (Sequential)   (None, 400, 512)          790016    \n",
            "_________________________________________________________________\n",
            "sequential_15 (Sequential)   (None, 400, 256)          494080    \n",
            "_________________________________________________________________\n",
            "sequential_16 (Sequential)   (None, 400, 128)          124160    \n",
            "_________________________________________________________________\n",
            "sequential_17 (Sequential)   (None, 400, 64)           31360     \n",
            "_________________________________________________________________\n",
            "dense_2 (Dense)              (None, 400, 1)            65        \n",
            "=================================================================\n",
            "Total params: 2,752,961\n",
            "Trainable params: 2,752,961\n",
            "Non-trainable params: 0\n",
            "_________________________________________________________________\n"
          ],
          "name": "stdout"
        }
      ]
    },
    {
      "cell_type": "code",
      "metadata": {
        "id": "wtHPWDitkeN_",
        "colab_type": "code",
        "colab": {
          "base_uri": "https://localhost:8080/",
          "height": 190
        },
        "outputId": "04a7e31d-2612-47ee-cc60-b1c170d662da"
      },
      "source": [
        "adam = optimizers.Adam(lr = learning_rate, clipvalue=0.5)\n",
        "model.compile(optimizer= adam,\n",
        "              loss='binary_crossentropy',\n",
        "              metrics=['accuracy'])\n",
        "early_stop = callbacks.EarlyStopping(monitor='val_loss', patience=0, verbose=2)\n",
        "history = model.fit(x_train,\n",
        "                    y_train, \n",
        "                    batch_size=batch, \n",
        "                    epochs=epoch,\n",
        "                    validation_split = (1/5),\n",
        "                    # verbose=1, \n",
        "                    callbacks=[early_stop]\n",
        "                    )  "
      ],
      "execution_count": 23,
      "outputs": [
        {
          "output_type": "stream",
          "text": [
            "Epoch 1/10\n",
            "157/157 [==============================] - 1698s 11s/step - loss: 0.6929 - accuracy: 0.5385 - val_loss: 0.4463 - val_accuracy: 0.8073\n",
            "Epoch 2/10\n",
            "157/157 [==============================] - 1566s 10s/step - loss: 0.3425 - accuracy: 0.8598 - val_loss: 0.2791 - val_accuracy: 0.8845\n",
            "Epoch 3/10\n",
            "157/157 [==============================] - 1538s 10s/step - loss: 0.2024 - accuracy: 0.9252 - val_loss: 0.2580 - val_accuracy: 0.8930\n",
            "Epoch 4/10\n",
            "157/157 [==============================] - 1523s 10s/step - loss: 0.1458 - accuracy: 0.9487 - val_loss: 0.2606 - val_accuracy: 0.8918\n",
            "Epoch 00004: early stopping\n"
          ],
          "name": "stdout"
        }
      ]
    },
    {
      "cell_type": "code",
      "metadata": {
        "id": "JLhle6f0keTY",
        "colab_type": "code",
        "colab": {
          "base_uri": "https://localhost:8080/",
          "height": 34
        },
        "outputId": "39105691-ceaa-433d-a28c-b7f28eafcdcc"
      },
      "source": [
        "test_loss, test_acc = model.evaluate(x_test, y_test, verbose=2)"
      ],
      "execution_count": 24,
      "outputs": [
        {
          "output_type": "stream",
          "text": [
            "782/782 - 533s - loss: 0.2950 - accuracy: 0.8785\n"
          ],
          "name": "stdout"
        }
      ]
    },
    {
      "cell_type": "code",
      "metadata": {
        "id": "-Fl2FuZolldj",
        "colab_type": "code",
        "colab": {
          "base_uri": "https://localhost:8080/",
          "height": 300
        },
        "outputId": "95ee2132-08d5-41d7-e4b3-e2b0916475bb"
      },
      "source": [
        "plt.plot(history.history['accuracy'], label='accuracy')\n",
        "plt.plot(history.history['val_accuracy'], label = 'val_accuracy')\n",
        "plt.xlabel('Epoch')\n",
        "plt.ylabel('Accuracy')\n",
        "plt.ylim([0.5, 1])\n",
        "plt.legend(loc='lower right')\n",
        "# plt.savefig(\"ann_acc.png\", dpi=500)"
      ],
      "execution_count": 25,
      "outputs": [
        {
          "output_type": "execute_result",
          "data": {
            "text/plain": [
              "<matplotlib.legend.Legend at 0x7f7279024da0>"
            ]
          },
          "metadata": {
            "tags": []
          },
          "execution_count": 25
        },
        {
          "output_type": "display_data",
          "data": {
            "image/png": "[encoded data removed]",
            "text/plain": [
              "<Figure size 432x288 with 1 Axes>"
            ]
          },
          "metadata": {
            "tags": [],
            "needs_background": "light"
          }
        }
      ]
    },
    {
      "cell_type": "code",
      "metadata": {
        "id": "zps8YvAellf0",
        "colab_type": "code",
        "colab": {
          "base_uri": "https://localhost:8080/",
          "height": 300
        },
        "outputId": "6a6e8227-85de-4239-b682-26acf2b8de68"
      },
      "source": [
        "plt.plot(history.history['loss'], label='loss')\n",
        "plt.plot(history.history['val_loss'], label = 'val_loss')\n",
        "plt.xlabel('Epoch')\n",
        "plt.ylabel('loss')\n",
        "plt.ylim([0, 1])\n",
        "plt.legend(loc='upper right')\n",
        "# plt.savefig(\"ann_loss.png\", dpi=500)"
      ],
      "execution_count": 26,
      "outputs": [
        {
          "output_type": "execute_result",
          "data": {
            "text/plain": [
              "<matplotlib.legend.Legend at 0x7f7279fe55c0>"
            ]
          },
          "metadata": {
            "tags": []
          },
          "execution_count": 26
        },
        {
          "output_type": "display_data",
          "data": {
            "image/png": "[encoded data removed]",
            "text/plain": [
              "<Figure size 432x288 with 1 Axes>"
            ]
          },
          "metadata": {
            "tags": [],
            "needs_background": "light"
          }
        }
      ]
    },
    {
      "cell_type": "markdown",
      "metadata": {
        "id": "1XNfRJJbDakn",
        "colab_type": "text"
      },
      "source": [
        "##Result : \n",
        "### Train accuracy: 94.87%\n",
        "### Valid accuracy: 89.18%\n",
        "### Test  accuracy: 87.85%\n"
      ]
    }
  ]
}