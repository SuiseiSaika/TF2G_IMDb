{
  "nbformat": 4,
  "nbformat_minor": 0,
  "metadata": {
    "colab": {
      "name": "TF2G_IMDb_RNN",
      "provenance": [],
      "collapsed_sections": []
    },
    "kernelspec": {
      "name": "python3",
      "display_name": "Python 3"
    },
    "accelerator": "GPU"
  },
  "cells": [
    {
      "cell_type": "code",
      "metadata": {
        "id": "9AGwUFJyToQm",
        "colab_type": "code",
        "colab": {}
      },
      "source": [
        "%tensorflow_version 2.x"
      ],
      "execution_count": 0,
      "outputs": []
    },
    {
      "cell_type": "code",
      "metadata": {
        "id": "LFq5JxDrTkLa",
        "colab_type": "code",
        "colab": {}
      },
      "source": [
        "%matplotlib inline\n",
        "import math\n",
        "import numpy as np\n",
        "import pandas as pd\n",
        "import matplotlib.pyplot as plt\n",
        "from tensorflow.keras import *\n",
        "from tensorflow.keras.utils import *\n",
        "from tensorflow.keras.layers import *\n",
        "from tensorflow.keras.datasets import imdb"
      ],
      "execution_count": 0,
      "outputs": []
    },
    {
      "cell_type": "markdown",
      "metadata": {
        "id": "4jEkwXyUesNw",
        "colab_type": "text"
      },
      "source": [
        "### Hyperparameters\n",
        "#### Epoch: 10\n",
        "#### Initial Learning Rate: 1e-3\n",
        "#### Batch  Size: 512\n",
        "#### Kernel Initializer: Orthogonal(default)\n"
      ]
    },
    {
      "cell_type": "code",
      "metadata": {
        "id": "rdwR9nT7b4Au",
        "colab_type": "code",
        "colab": {}
      },
      "source": [
        "max_features = 10000\n",
        "maxlen = 400\n",
        "epoch = 10\n",
        "learning_rate = 1e-3\n",
        "batch = 512\n",
        "initializer = initializers.Orthogonal(seed=114)\n",
        "use_cudnn = True\n",
        "use_regulizar = False"
      ],
      "execution_count": 0,
      "outputs": []
    },
    {
      "cell_type": "code",
      "metadata": {
        "id": "gwXjVJAWd5iX",
        "colab_type": "code",
        "colab": {}
      },
      "source": [
        "if(use_cudnn):\n",
        "  recurrent_dropout = 0\n",
        "else:\n",
        "  recurrent_dropout = 0.5\n",
        "if(use_regulizar):\n",
        "  regularizer = regularizers.l2(0.05)\n",
        "else:\n",
        "  regularizer = None\n",
        "  "
      ],
      "execution_count": 0,
      "outputs": []
    },
    {
      "cell_type": "code",
      "metadata": {
        "id": "c7LJ9Dhbb3aQ",
        "colab_type": "code",
        "colab": {}
      },
      "source": [
        "(x_train, y_train), (x_test, y_test) = imdb.load_data(num_words=max_features)\n",
        "x_train = preprocessing.sequence.pad_sequences(x_train, maxlen=maxlen)\n",
        "x_test = preprocessing.sequence.pad_sequences(x_test, maxlen=maxlen)\n",
        "y_train = np.array(y_train)\n",
        "y_test = np.array(y_test)"
      ],
      "execution_count": 0,
      "outputs": []
    },
    {
      "cell_type": "markdown",
      "metadata": {
        "id": "cRD7gYgy1rkJ",
        "colab_type": "text"
      },
      "source": [
        "### 定義 residual_block :\n",
        "#### residual = x\n",
        "#### x = basic_layer(basic_layer(x))\n",
        "#### residual_block = x + residual"
      ]
    },
    {
      "cell_type": "code",
      "metadata": {
        "id": "aW-gzs4S2yw8",
        "colab_type": "code",
        "colab": {}
      },
      "source": [
        "def cnn_layer(units, dropoutrate = 0):\n",
        "    layer = models.Sequential()\n",
        "    layer.add(LayerNormalization())\n",
        "    layer.add(Conv1D(filters=units, kernel_size=1, strides=1, padding='same'))\n",
        "    if(dropoutrate>0):\n",
        "        layer.add(SpatialDropout1D(dropoutrate))\n",
        "    layer.add(layers.Activation('elu'))\n",
        "    return layer"
      ],
      "execution_count": 0,
      "outputs": []
    },
    {
      "cell_type": "code",
      "metadata": {
        "id": "_wvxt4b63BGZ",
        "colab_type": "code",
        "colab": {}
      },
      "source": [
        "def rnn_layer(units, recurrent_dropout,dropout=0.5, dropoutrate = 0, rnn = 'GRU'):\n",
        "    layer = models.Sequential()\n",
        "    layer.add(LayerNormalization())\n",
        "    if(rnn == 'GRU'):\n",
        "      layer.add(Bidirectional(GRU(units, kernel_initializer=initializer, dropout=dropout, kernel_regularizer=regularizer, recurrent_dropout=recurrent_dropout, return_sequences=True)))\n",
        "    elif(rnn == 'LSTM'):\n",
        "      layer.add(Bidirectional(LSTM(units, kernel_initializer=initializer, dropout=dropout, kernel_regularizer=regularizer, recurrent_dropout=recurrent_dropout, return_sequences=True)))\n",
        "    else:\n",
        "      layer.add(Bidirectional(RNN(units, kernel_initializer=initializer, dropout=dropout, kernel_regularizer=regularizer, recurrent_dropout=recurrent_dropout, return_sequences=True)))\n",
        "    if(dropoutrate>0):\n",
        "        layer.add(SpatialDropout1D(dropoutrate))\n",
        "    layer.add(layers.Activation('elu'))\n",
        "    return layer"
      ],
      "execution_count": 0,
      "outputs": []
    },
    {
      "cell_type": "code",
      "metadata": {
        "id": "ObGKgl_fbz6n",
        "colab_type": "code",
        "outputId": "cc35bda2-a8be-427a-8f2e-68f2b5b9f2aa",
        "colab": {
          "base_uri": "https://localhost:8080/",
          "height": 459
        }
      },
      "source": [
        "model = Sequential()\n",
        "model.add(Embedding(10000, 128, input_length=maxlen))\n",
        "model.add(SpatialDropout1D(0.25))\n",
        "model.add(cnn_layer(128, 0.25))\n",
        "model.add(cnn_layer(256, 0.25))\n",
        "model.add(rnn_layer(256, recurrent_dropout, 0.5, 0.25))\n",
        "model.add(rnn_layer(128, recurrent_dropout, 0.5, 0.25))\n",
        "model.add(rnn_layer(64, recurrent_dropout, 0.5, 0.25))\n",
        "model.add(rnn_layer(32, recurrent_dropout, 0.5, 0.25))\n",
        "model.add(Dense(1, activation='sigmoid'))\n",
        "model.summary()"
      ],
      "execution_count": 0,
      "outputs": [
        {
          "output_type": "stream",
          "text": [
            "Model: \"sequential\"\n",
            "_________________________________________________________________\n",
            "Layer (type)                 Output Shape              Param #   \n",
            "=================================================================\n",
            "embedding (Embedding)        (None, 400, 128)          1280000   \n",
            "_________________________________________________________________\n",
            "spatial_dropout1d (SpatialDr (None, 400, 128)          0         \n",
            "_________________________________________________________________\n",
            "sequential_1 (Sequential)    (None, 400, 128)          16768     \n",
            "_________________________________________________________________\n",
            "sequential_2 (Sequential)    (None, 400, 256)          33280     \n",
            "_________________________________________________________________\n",
            "sequential_3 (Sequential)    (None, 400, 512)          790016    \n",
            "_________________________________________________________________\n",
            "sequential_4 (Sequential)    (None, 400, 256)          494080    \n",
            "_________________________________________________________________\n",
            "sequential_5 (Sequential)    (None, 400, 128)          124160    \n",
            "_________________________________________________________________\n",
            "sequential_6 (Sequential)    (None, 400, 64)           31360     \n",
            "_________________________________________________________________\n",
            "dense (Dense)                (None, 400, 1)            65        \n",
            "=================================================================\n",
            "Total params: 2,769,729\n",
            "Trainable params: 2,769,729\n",
            "Non-trainable params: 0\n",
            "_________________________________________________________________\n"
          ],
          "name": "stdout"
        }
      ]
    },
    {
      "cell_type": "markdown",
      "metadata": {
        "id": "7msGkZjXliO4",
        "colab_type": "text"
      },
      "source": [
        "#### Optimizer : Adam\n",
        "#### Train : Validation : Test = 4 : 1 : 5\n",
        "\n"
      ]
    },
    {
      "cell_type": "code",
      "metadata": {
        "id": "eIT0sSS0b67P",
        "colab_type": "code",
        "outputId": "d07238e5-a9fe-4d8b-ec05-a3a909815a60",
        "colab": {
          "base_uri": "https://localhost:8080/",
          "height": 357
        }
      },
      "source": [
        "adam = optimizers.Adam(lr = learning_rate, clipvalue=0.5)\n",
        "model.compile(optimizer= adam,\n",
        "              loss='binary_crossentropy',\n",
        "              metrics=['accuracy'])\n",
        "early_stop = callbacks.EarlyStopping(monitor='val_loss', patience=5, verbose=2)\n",
        "history = model.fit(x_train,\n",
        "                    y_train, \n",
        "                    batch_size=batch, \n",
        "                    epochs=epoch,\n",
        "                    validation_split = (1/5),\n",
        "                    verbose=1, \n",
        "                    # callbacks=[early_stop]\n",
        "                    )  "
      ],
      "execution_count": 0,
      "outputs": [
        {
          "output_type": "stream",
          "text": [
            "Epoch 1/10\n",
            "40/40 [==============================] - 55s 1s/step - loss: 0.7295 - accuracy: 0.4989 - val_loss: 0.6879 - val_accuracy: 0.5415\n",
            "Epoch 2/10\n",
            "40/40 [==============================] - 53s 1s/step - loss: 0.6896 - accuracy: 0.5387 - val_loss: 0.6057 - val_accuracy: 0.6406\n",
            "Epoch 3/10\n",
            "40/40 [==============================] - 53s 1s/step - loss: 0.4832 - accuracy: 0.7783 - val_loss: 0.3233 - val_accuracy: 0.8638\n",
            "Epoch 4/10\n",
            "40/40 [==============================] - 53s 1s/step - loss: 0.2780 - accuracy: 0.8913 - val_loss: 0.3124 - val_accuracy: 0.8709\n",
            "Epoch 5/10\n",
            "40/40 [==============================] - 53s 1s/step - loss: 0.2019 - accuracy: 0.9252 - val_loss: 0.3512 - val_accuracy: 0.8551\n",
            "Epoch 6/10\n",
            "40/40 [==============================] - 53s 1s/step - loss: 0.1833 - accuracy: 0.9332 - val_loss: 0.2727 - val_accuracy: 0.8854\n",
            "Epoch 7/10\n",
            "40/40 [==============================] - 53s 1s/step - loss: 0.1243 - accuracy: 0.9579 - val_loss: 0.3329 - val_accuracy: 0.8731\n",
            "Epoch 8/10\n",
            "40/40 [==============================] - 53s 1s/step - loss: 0.1021 - accuracy: 0.9673 - val_loss: 0.3591 - val_accuracy: 0.8539\n",
            "Epoch 9/10\n",
            "40/40 [==============================] - 53s 1s/step - loss: 0.0938 - accuracy: 0.9689 - val_loss: 0.3436 - val_accuracy: 0.8809\n",
            "Epoch 10/10\n",
            "40/40 [==============================] - 53s 1s/step - loss: 0.0700 - accuracy: 0.9781 - val_loss: 0.3415 - val_accuracy: 0.8812\n"
          ],
          "name": "stdout"
        }
      ]
    },
    {
      "cell_type": "code",
      "metadata": {
        "id": "mMUjF5T4b7ww",
        "colab_type": "code",
        "outputId": "c93204aa-1831-42be-a57f-48d1a07bf1e8",
        "colab": {
          "base_uri": "https://localhost:8080/",
          "height": 34
        }
      },
      "source": [
        "test_loss, test_acc = model.evaluate(x_test, y_test, verbose=2)"
      ],
      "execution_count": 0,
      "outputs": [
        {
          "output_type": "stream",
          "text": [
            "782/782 - 53s - loss: 0.3848 - accuracy: 0.8680\n"
          ],
          "name": "stdout"
        }
      ]
    },
    {
      "cell_type": "code",
      "metadata": {
        "id": "bIWJ_yjwb8V_",
        "colab_type": "code",
        "outputId": "2ebbad0f-9bb1-4bff-8ac1-4ef001fe6d11",
        "colab": {
          "base_uri": "https://localhost:8080/",
          "height": 300
        }
      },
      "source": [
        "plt.plot(history.history['accuracy'], label='accuracy')\n",
        "plt.plot(history.history['val_accuracy'], label = 'val_accuracy')\n",
        "plt.xlabel('Epoch')\n",
        "plt.ylabel('Accuracy')\n",
        "plt.ylim([0.5, 1])\n",
        "plt.legend(loc='lower right')\n",
        "# plt.savefig(\"ann_acc.png\", dpi=500)"
      ],
      "execution_count": 0,
      "outputs": [
        {
          "output_type": "execute_result",
          "data": {
            "text/plain": [
              "<matplotlib.legend.Legend at 0x7fe244031358>"
            ]
          },
          "metadata": {
            "tags": []
          },
          "execution_count": 11
        },
        {
          "output_type": "display_data",
          "data": {
            "image/png": "[encoded data removed]",
            "text/plain": [
              "<Figure size 432x288 with 1 Axes>"
            ]
          },
          "metadata": {
            "tags": [],
            "needs_background": "light"
          }
        }
      ]
    },
    {
      "cell_type": "code",
      "metadata": {
        "id": "maods0xfb85_",
        "colab_type": "code",
        "outputId": "a66cd707-e149-4f21-a16f-d3e53594adfa",
        "colab": {
          "base_uri": "https://localhost:8080/",
          "height": 300
        }
      },
      "source": [
        "plt.plot(history.history['loss'], label='loss')\n",
        "plt.plot(history.history['val_loss'], label = 'val_loss')\n",
        "plt.xlabel('Epoch')\n",
        "plt.ylabel('loss')\n",
        "plt.ylim([0, 1])\n",
        "plt.legend(loc='upper right')\n",
        "# plt.savefig(\"ann_loss.png\", dpi=500)"
      ],
      "execution_count": 0,
      "outputs": [
        {
          "output_type": "execute_result",
          "data": {
            "text/plain": [
              "<matplotlib.legend.Legend at 0x7fe244037978>"
            ]
          },
          "metadata": {
            "tags": []
          },
          "execution_count": 12
        },
        {
          "output_type": "display_data",
          "data": {
            "image/png": "[encoded data removed]",
            "text/plain": [
              "<Figure size 432x288 with 1 Axes>"
            ]
          },
          "metadata": {
            "tags": [],
            "needs_background": "light"
          }
        }
      ]
    },
    {
      "cell_type": "markdown",
      "metadata": {
        "id": "rmFhmwrAl511",
        "colab_type": "text"
      },
      "source": [
        "##Result : \n",
        "### Train accuracy: 93.63%\n",
        "### Valid accuracy: 93.40%\n",
        "### Test  accuracy: 92.51%\n",
        "#### Early_stopping讓模型在第31個epoch就停止訓練\n"
      ]
    }
  ]
}